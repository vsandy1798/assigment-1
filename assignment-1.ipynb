{
 "cells": [
  {
   "cell_type": "markdown",
   "id": "d1a58839-6384-49f3-80b7-43c7bef7f061",
   "metadata": {},
   "source": [
    "Que.1"
   ]
  },
  {
   "cell_type": "markdown",
   "id": "cbfad4d2-37b5-495f-83de-932fd7720c6f",
   "metadata": {},
   "source": [
    "Ans.i"
   ]
  },
  {
   "cell_type": "code",
   "execution_count": 1,
   "id": "7f4a484b-8821-42fb-b74d-e359a4fbed78",
   "metadata": {},
   "outputs": [],
   "source": [
    "a = \"sandeep\""
   ]
  },
  {
   "cell_type": "code",
   "execution_count": 2,
   "id": "42dc32d9-4abb-47ba-9d82-1b66a13e1cf0",
   "metadata": {},
   "outputs": [
    {
     "data": {
      "text/plain": [
       "str"
      ]
     },
     "execution_count": 2,
     "metadata": {},
     "output_type": "execute_result"
    }
   ],
   "source": [
    "type(a)"
   ]
  },
  {
   "cell_type": "markdown",
   "id": "146fbc4e-1cc5-432d-8ad3-27641bc2cbf6",
   "metadata": {},
   "source": [
    "Ans.ii"
   ]
  },
  {
   "cell_type": "code",
   "execution_count": 3,
   "id": "2e48666e-9a50-47a3-bbfc-deb9542a751f",
   "metadata": {},
   "outputs": [],
   "source": [
    "l = [1,2,5,6,7, \"sandy\", \"skills\", 3.5, True]"
   ]
  },
  {
   "cell_type": "code",
   "execution_count": 4,
   "id": "d4c4f58a-3548-446a-a948-5c458d676639",
   "metadata": {},
   "outputs": [
    {
     "data": {
      "text/plain": [
       "list"
      ]
     },
     "execution_count": 4,
     "metadata": {},
     "output_type": "execute_result"
    }
   ],
   "source": [
    "type(l)"
   ]
  },
  {
   "cell_type": "markdown",
   "id": "32159bf1-5622-4e3d-abe5-412f5d29edf4",
   "metadata": {},
   "source": [
    "Ans.iii"
   ]
  },
  {
   "cell_type": "code",
   "execution_count": 5,
   "id": "fbec9bd2-fff2-492e-8b91-1eb45ea6c929",
   "metadata": {},
   "outputs": [],
   "source": [
    "b = 4.5"
   ]
  },
  {
   "cell_type": "code",
   "execution_count": 6,
   "id": "2e84bc29-f98f-43ca-8783-b26f3b662228",
   "metadata": {},
   "outputs": [
    {
     "data": {
      "text/plain": [
       "float"
      ]
     },
     "execution_count": 6,
     "metadata": {},
     "output_type": "execute_result"
    }
   ],
   "source": [
    "type(b)"
   ]
  },
  {
   "cell_type": "markdown",
   "id": "35ee91cd-8c4d-4959-ba81-4a9b2dc501ea",
   "metadata": {},
   "source": [
    "Ans.iv"
   ]
  },
  {
   "cell_type": "code",
   "execution_count": 7,
   "id": "d67ba3c7-9dcc-4d7e-a419-3aadaaa38f77",
   "metadata": {},
   "outputs": [],
   "source": [
    "d = (1,2,3, \"pwskills\", \"shubh\", True)"
   ]
  },
  {
   "cell_type": "code",
   "execution_count": 8,
   "id": "256e6084-9b0c-40c6-b953-e4e7072d7fd7",
   "metadata": {},
   "outputs": [
    {
     "data": {
      "text/plain": [
       "tuple"
      ]
     },
     "execution_count": 8,
     "metadata": {},
     "output_type": "execute_result"
    }
   ],
   "source": [
    "type(d)"
   ]
  },
  {
   "cell_type": "markdown",
   "id": "58879613-d8d0-4da1-a312-5f6ca30b73b2",
   "metadata": {},
   "source": [
    "Que.2"
   ]
  },
  {
   "cell_type": "markdown",
   "id": "5eb137af-00c1-451f-8faf-a089dd3828b6",
   "metadata": {},
   "source": [
    "Ans.i"
   ]
  },
  {
   "cell_type": "code",
   "execution_count": 9,
   "id": "bb85a776-f3bf-493f-84d9-7aac8c7811bb",
   "metadata": {},
   "outputs": [],
   "source": [
    "var1 = ' '"
   ]
  },
  {
   "cell_type": "code",
   "execution_count": 10,
   "id": "798565c9-7de2-4fd4-98d5-90fee1af2011",
   "metadata": {},
   "outputs": [
    {
     "data": {
      "text/plain": [
       "str"
      ]
     },
     "execution_count": 10,
     "metadata": {},
     "output_type": "execute_result"
    }
   ],
   "source": [
    "type(var1)"
   ]
  },
  {
   "cell_type": "markdown",
   "id": "5f285be3-4d64-4eab-b950-62491e86c4b0",
   "metadata": {},
   "source": [
    "Ans.ii"
   ]
  },
  {
   "cell_type": "code",
   "execution_count": 11,
   "id": "f3ae9586-2b0e-4447-92e8-5f6d16d565b3",
   "metadata": {},
   "outputs": [],
   "source": [
    "var2 = '[DS, ML, Python]'"
   ]
  },
  {
   "cell_type": "code",
   "execution_count": 12,
   "id": "fcb8755e-2ada-4bd5-91ed-5373a8f8d837",
   "metadata": {},
   "outputs": [
    {
     "data": {
      "text/plain": [
       "str"
      ]
     },
     "execution_count": 12,
     "metadata": {},
     "output_type": "execute_result"
    }
   ],
   "source": [
    "type(var2)"
   ]
  },
  {
   "cell_type": "markdown",
   "id": "e8e0fa51-8f75-44ac-a2c8-d9a1e9603a74",
   "metadata": {},
   "source": [
    "Ans.iii"
   ]
  },
  {
   "cell_type": "code",
   "execution_count": 13,
   "id": "cd411050-bf7b-4dd7-b68a-feceb8484ad7",
   "metadata": {},
   "outputs": [],
   "source": [
    "var3 = ['DS', 'ML', 'Python']"
   ]
  },
  {
   "cell_type": "markdown",
   "id": "a6d1422c-514d-4ade-838a-f491f99531d7",
   "metadata": {},
   "source": [
    "type(var3)"
   ]
  },
  {
   "cell_type": "markdown",
   "id": "b22d1048-8864-49e8-9f41-6bd40f548e32",
   "metadata": {},
   "source": [
    "Ans.iv"
   ]
  },
  {
   "cell_type": "code",
   "execution_count": 15,
   "id": "bbe61507-d3cf-47ae-b5f8-80180841b404",
   "metadata": {},
   "outputs": [],
   "source": [
    "var4 = 1."
   ]
  },
  {
   "cell_type": "code",
   "execution_count": 16,
   "id": "701b5910-d4b9-41ab-845e-327fcef103de",
   "metadata": {},
   "outputs": [
    {
     "data": {
      "text/plain": [
       "float"
      ]
     },
     "execution_count": 16,
     "metadata": {},
     "output_type": "execute_result"
    }
   ],
   "source": [
    "type(var4)"
   ]
  },
  {
   "cell_type": "markdown",
   "id": "e19464a2-2c0f-47e5-aa13-01ea22a4826d",
   "metadata": {},
   "source": [
    "Que.3"
   ]
  },
  {
   "cell_type": "markdown",
   "id": "ab66bcfb-c382-4aa2-825f-f969bf1d1e59",
   "metadata": {},
   "source": [
    "Ans.i"
   ]
  },
  {
   "cell_type": "markdown",
   "id": "fe36915c-f19f-4ff2-a8f2-54fd4753502d",
   "metadata": {},
   "source": [
    "(/) means division\n",
    "\n",
    "for Ex."
   ]
  },
  {
   "cell_type": "code",
   "execution_count": 17,
   "id": "11ae9d54-d4c3-4af6-8199-6076e6e3132c",
   "metadata": {},
   "outputs": [],
   "source": [
    "a = 8/6"
   ]
  },
  {
   "cell_type": "code",
   "execution_count": 18,
   "id": "03996d16-1ff9-4cf7-91aa-df57b054c7e8",
   "metadata": {},
   "outputs": [
    {
     "data": {
      "text/plain": [
       "1.3333333333333333"
      ]
     },
     "execution_count": 18,
     "metadata": {},
     "output_type": "execute_result"
    }
   ],
   "source": [
    "a"
   ]
  },
  {
   "cell_type": "markdown",
   "id": "1dc7e30a-0fc4-4dba-94cb-58cfcf011624",
   "metadata": {},
   "source": [
    "Ans.ii"
   ]
  },
  {
   "cell_type": "markdown",
   "id": "cd2253a4-2436-4477-84cc-c37a6bf46877",
   "metadata": {},
   "source": [
    "(%) means remainder \n",
    "\n",
    "for Ex."
   ]
  },
  {
   "cell_type": "code",
   "execution_count": 19,
   "id": "03f41262-eadf-4d88-9b68-f3083b5b1074",
   "metadata": {},
   "outputs": [],
   "source": [
    "b = 8%5"
   ]
  },
  {
   "cell_type": "code",
   "execution_count": 20,
   "id": "b0f544db-105c-44d4-9420-9dae14a2727c",
   "metadata": {},
   "outputs": [
    {
     "data": {
      "text/plain": [
       "3"
      ]
     },
     "execution_count": 20,
     "metadata": {},
     "output_type": "execute_result"
    }
   ],
   "source": [
    "b"
   ]
  },
  {
   "cell_type": "markdown",
   "id": "f68cff62-381c-4c18-97b2-4114a8f3f91b",
   "metadata": {},
   "source": [
    "Ans.iii"
   ]
  },
  {
   "cell_type": "markdown",
   "id": "c074d7e0-5c9d-4824-a812-2b01eea07caf",
   "metadata": {},
   "source": [
    "(//) means divides the first operand by the second\n",
    "\n",
    "for Ex."
   ]
  },
  {
   "cell_type": "code",
   "execution_count": 21,
   "id": "ebe6dd5e-8b78-471e-975f-bb176ad1b352",
   "metadata": {},
   "outputs": [],
   "source": [
    "c = 7//6"
   ]
  },
  {
   "cell_type": "code",
   "execution_count": 22,
   "id": "f7a5a5a5-7d60-412f-bc5b-d74e01e0ea26",
   "metadata": {},
   "outputs": [
    {
     "data": {
      "text/plain": [
       "1"
      ]
     },
     "execution_count": 22,
     "metadata": {},
     "output_type": "execute_result"
    }
   ],
   "source": [
    "c"
   ]
  },
  {
   "cell_type": "markdown",
   "id": "fb9e011f-5db8-4524-857f-32c9ba9a91ac",
   "metadata": {},
   "source": [
    "Ans.iv"
   ]
  },
  {
   "cell_type": "markdown",
   "id": "30fa89aa-5e85-45b6-b50f-18b9980e3842",
   "metadata": {},
   "source": [
    "(**) means power \n",
    "\n",
    "for Ex."
   ]
  },
  {
   "cell_type": "code",
   "execution_count": 23,
   "id": "c7b785d8-dc66-4085-8ba9-0d120d657447",
   "metadata": {},
   "outputs": [],
   "source": [
    "A = 5**5"
   ]
  },
  {
   "cell_type": "code",
   "execution_count": 24,
   "id": "2b89281f-65fa-4d7b-a4d3-5f16db6701cf",
   "metadata": {},
   "outputs": [
    {
     "data": {
      "text/plain": [
       "3125"
      ]
     },
     "execution_count": 24,
     "metadata": {},
     "output_type": "execute_result"
    }
   ],
   "source": [
    "A "
   ]
  },
  {
   "cell_type": "markdown",
   "id": "bbc9e0ab-ba96-450a-8f7f-9dbb5a49220e",
   "metadata": {},
   "source": [
    "Que.4"
   ]
  },
  {
   "cell_type": "markdown",
   "id": "0ab9ff14-ab0d-4e0d-893e-fa805adac616",
   "metadata": {},
   "source": [
    "Ans."
   ]
  },
  {
   "cell_type": "code",
   "execution_count": 44,
   "id": "cb1bc2d2-98c3-4983-90c6-7f65251d3ccb",
   "metadata": {},
   "outputs": [],
   "source": [
    "l = [1,5,8, \"sandeep\", 8, \"shubh\", True, 6,5.9, (\"pwskills\", 9, 2)]"
   ]
  },
  {
   "cell_type": "code",
   "execution_count": 45,
   "id": "5bcf37b5-e8fb-408d-8c9f-684f890d76e5",
   "metadata": {},
   "outputs": [
    {
     "data": {
      "text/plain": [
       "list"
      ]
     },
     "execution_count": 45,
     "metadata": {},
     "output_type": "execute_result"
    }
   ],
   "source": [
    "type(l)"
   ]
  },
  {
   "cell_type": "code",
   "execution_count": 48,
   "id": "4e68cef4-3b9a-49c0-9518-a1fd38bf3a36",
   "metadata": {},
   "outputs": [
    {
     "name": "stdout",
     "output_type": "stream",
     "text": [
      "1\n",
      "<class 'int'>\n",
      "5\n",
      "<class 'int'>\n",
      "8\n",
      "<class 'int'>\n",
      "sandeep\n",
      "<class 'str'>\n",
      "8\n",
      "<class 'int'>\n",
      "shubh\n",
      "<class 'str'>\n",
      "True\n",
      "<class 'bool'>\n",
      "6\n",
      "<class 'int'>\n",
      "5.9\n",
      "<class 'float'>\n",
      "('pwskills', 9, 2)\n",
      "<class 'tuple'>\n"
     ]
    }
   ],
   "source": [
    "for i in l :\n",
    "    print(i)   \n",
    "    print(type(i))\n",
    "    \n",
    "    "
   ]
  },
  {
   "cell_type": "markdown",
   "id": "c60826fc-8f21-4013-8843-b9740eb78d3e",
   "metadata": {},
   "source": [
    "Que.5"
   ]
  },
  {
   "cell_type": "markdown",
   "id": "cb9b61b7-a56b-45fc-b71e-80b964c9c09b",
   "metadata": {},
   "source": [
    "Ans."
   ]
  },
  {
   "cell_type": "code",
   "execution_count": 54,
   "id": "b83e130b-4821-425b-910c-aa92e3ea9b3c",
   "metadata": {},
   "outputs": [
    {
     "name": "stdin",
     "output_type": "stream",
     "text": [
      " 4\n",
      " 8\n"
     ]
    }
   ],
   "source": [
    "a = int(input())\n",
    "b = int(input())\n",
    "c = 0\n",
    "if a/b == 0 :\n",
    "    while(a/b>=b and typr(a/b == int)):\n",
    "        c+=1\n",
    "        a/=b\n",
    "    c\n",
    "else:\n",
    "    (\"Not Divisible\")"
   ]
  },
  {
   "cell_type": "markdown",
   "id": "f7a95286-65e3-4660-887c-e482e9d52a97",
   "metadata": {},
   "source": [
    "Que.6"
   ]
  },
  {
   "cell_type": "markdown",
   "id": "2786b547-11e7-477a-b15e-680495710424",
   "metadata": {},
   "source": [
    "Ans."
   ]
  },
  {
   "cell_type": "code",
   "execution_count": 66,
   "id": "076f1c28-4b08-40ef-a757-4a0f4d4c851a",
   "metadata": {},
   "outputs": [
    {
     "data": {
      "text/plain": [
       "[3, 6, 9, 12, 15, 18, 21, 24]"
      ]
     },
     "execution_count": 66,
     "metadata": {},
     "output_type": "execute_result"
    }
   ],
   "source": [
    "l = [1,2,3,4,5,6,7,8,9,10,11,12,13,14,15,16,17,18,19,20,21,22,23,24,25]\n",
    "l1 = []\n",
    "l2 = []\n",
    "for i in l:\n",
    "    if i%3==0:\n",
    "        l1.append(i)\n",
    "    else:\n",
    "        l2.append(i)\n",
    "l1        \n"
   ]
  },
  {
   "cell_type": "code",
   "execution_count": 67,
   "id": "a094d4ce-780e-4649-8637-3f64365f19aa",
   "metadata": {},
   "outputs": [
    {
     "data": {
      "text/plain": [
       "[1, 2, 4, 5, 7, 8, 10, 11, 13, 14, 16, 17, 19, 20, 22, 23, 25]"
      ]
     },
     "execution_count": 67,
     "metadata": {},
     "output_type": "execute_result"
    }
   ],
   "source": [
    "l2"
   ]
  },
  {
   "cell_type": "markdown",
   "id": "ebbbce57-52c2-4940-9691-17aa9af7e159",
   "metadata": {},
   "source": [
    "Que.7"
   ]
  },
  {
   "cell_type": "markdown",
   "id": "8a31e25e-ea19-4f9a-b59a-f970ffe2a1ad",
   "metadata": {},
   "source": [
    "Ans."
   ]
  },
  {
   "cell_type": "code",
   "execution_count": 68,
   "id": "8be53eb8-a6fd-401b-80cb-09f7052c5c56",
   "metadata": {},
   "outputs": [],
   "source": [
    "f = [1,2,3,4]"
   ]
  },
  {
   "cell_type": "code",
   "execution_count": 69,
   "id": "bc771b70-9669-4c79-a706-4c983a25df19",
   "metadata": {},
   "outputs": [],
   "source": [
    "f[0] = 2"
   ]
  },
  {
   "cell_type": "code",
   "execution_count": 70,
   "id": "5dcdae89-7b10-4dee-82eb-e2cbe85c9c47",
   "metadata": {},
   "outputs": [
    {
     "data": {
      "text/plain": [
       "[2, 2, 3, 4]"
      ]
     },
     "execution_count": 70,
     "metadata": {},
     "output_type": "execute_result"
    }
   ],
   "source": [
    "f"
   ]
  },
  {
   "cell_type": "code",
   "execution_count": 71,
   "id": "d995558e-e192-4346-bd0b-03dd656743df",
   "metadata": {},
   "outputs": [],
   "source": [
    "f = (1,2,3,4)"
   ]
  },
  {
   "cell_type": "code",
   "execution_count": null,
   "id": "55a8c12e-7c41-47b2-8e75-717a5bdeb5fc",
   "metadata": {},
   "outputs": [],
   "source": [
    "f[0] = 2\n"
   ]
  }
 ],
 "metadata": {
  "kernelspec": {
   "display_name": "Python 3 (ipykernel)",
   "language": "python",
   "name": "python3"
  },
  "language_info": {
   "codemirror_mode": {
    "name": "ipython",
    "version": 3
   },
   "file_extension": ".py",
   "mimetype": "text/x-python",
   "name": "python",
   "nbconvert_exporter": "python",
   "pygments_lexer": "ipython3",
   "version": "3.10.8"
  }
 },
 "nbformat": 4,
 "nbformat_minor": 5
}
